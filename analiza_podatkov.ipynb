{
 "cells": [
  {
   "cell_type": "markdown",
   "metadata": {},
   "source": [
    "**Analiza slovenskih hribov**\n",
    "Za svojo projektno nalogo bom analizirala podatke o slovenskih hribih, gorah in še čem, najdenih na [spletni strani hribi.net](https://www.hribi.net/).\n",
    "Za začetek si oglejmo tabelo z vsemi podatki, urejeno padajoče po priljubljenosti."
   ]
  },
  {
   "cell_type": "code",
   "execution_count": 23,
   "metadata": {},
   "outputs": [],
   "source": [
    "import pandas as pd\n",
    "tabela_gora = pd.read_csv(\"podatki v csv/gore.csv\")\n",
    "tabela_gora = tabela_gora.rename(\n",
    "    columns={\"priljubljenost\": \"priljubljenost (%)\", \"st_poti\": \"število poti\", \"st_slik\": \n",
    "    \"število slik\", \"visina\": \"višina\"})\n",
    "    "
   ]
  },
  {
   "cell_type": "code",
   "execution_count": 24,
   "metadata": {},
   "outputs": [
    {
     "data": {
      "text/html": [
       "<div>\n",
       "<style scoped>\n",
       "    .dataframe tbody tr th:only-of-type {\n",
       "        vertical-align: middle;\n",
       "    }\n",
       "\n",
       "    .dataframe tbody tr th {\n",
       "        vertical-align: top;\n",
       "    }\n",
       "\n",
       "    .dataframe thead th {\n",
       "        text-align: right;\n",
       "    }\n",
       "</style>\n",
       "<table border=\"1\" class=\"dataframe\">\n",
       "  <thead>\n",
       "    <tr style=\"text-align: right;\">\n",
       "      <th></th>\n",
       "      <th>gorovje</th>\n",
       "      <th>ime</th>\n",
       "      <th>ogledi</th>\n",
       "      <th>priljubljenost (%)</th>\n",
       "      <th>število poti</th>\n",
       "      <th>število slik</th>\n",
       "      <th>višina</th>\n",
       "      <th>vrsta</th>\n",
       "    </tr>\n",
       "  </thead>\n",
       "  <tbody>\n",
       "    <tr>\n",
       "      <th>2592</th>\n",
       "      <td>Karavanke</td>\n",
       "      <td>Dom na Kofcah</td>\n",
       "      <td>1083679</td>\n",
       "      <td>100</td>\n",
       "      <td>13</td>\n",
       "      <td>18</td>\n",
       "      <td>1488</td>\n",
       "      <td>['koča', ' planina', ' cerkev']</td>\n",
       "    </tr>\n",
       "    <tr>\n",
       "      <th>802</th>\n",
       "      <td>Julijske Alpe</td>\n",
       "      <td>Krn</td>\n",
       "      <td>982160</td>\n",
       "      <td>100</td>\n",
       "      <td>12</td>\n",
       "      <td>21</td>\n",
       "      <td>2244</td>\n",
       "      <td>['vrh']</td>\n",
       "    </tr>\n",
       "    <tr>\n",
       "      <th>1842</th>\n",
       "      <td>Kamniško Savinjske Alpe</td>\n",
       "      <td>Kamniška koča na Kamniškem sedlu</td>\n",
       "      <td>1034208</td>\n",
       "      <td>100</td>\n",
       "      <td>4</td>\n",
       "      <td>13</td>\n",
       "      <td>1864</td>\n",
       "      <td>['koča', ' bivak', ' sedlo']</td>\n",
       "    </tr>\n",
       "    <tr>\n",
       "      <th>1843</th>\n",
       "      <td>Kamniško Savinjske Alpe</td>\n",
       "      <td>Kamniška koča na Kamniškem sedlu</td>\n",
       "      <td>1034208</td>\n",
       "      <td>100</td>\n",
       "      <td>4</td>\n",
       "      <td>13</td>\n",
       "      <td>1864</td>\n",
       "      <td>['koča', ' bivak', ' sedlo']</td>\n",
       "    </tr>\n",
       "    <tr>\n",
       "      <th>2593</th>\n",
       "      <td>Karavanke</td>\n",
       "      <td>Dom na Kofcah</td>\n",
       "      <td>1083679</td>\n",
       "      <td>100</td>\n",
       "      <td>13</td>\n",
       "      <td>18</td>\n",
       "      <td>1488</td>\n",
       "      <td>['koča', ' planina', ' cerkev']</td>\n",
       "    </tr>\n",
       "    <tr>\n",
       "      <th>...</th>\n",
       "      <td>...</td>\n",
       "      <td>...</td>\n",
       "      <td>...</td>\n",
       "      <td>...</td>\n",
       "      <td>...</td>\n",
       "      <td>...</td>\n",
       "      <td>...</td>\n",
       "      <td>...</td>\n",
       "    </tr>\n",
       "    <tr>\n",
       "      <th>4518</th>\n",
       "      <td>Strojna, Košenjak, Kozjak in Slovenske gorice</td>\n",
       "      <td>Lovsko zavetišče LD Mala Nedelja</td>\n",
       "      <td>30</td>\n",
       "      <td>3</td>\n",
       "      <td>1</td>\n",
       "      <td>1</td>\n",
       "      <td>215</td>\n",
       "      <td>['koča']</td>\n",
       "    </tr>\n",
       "    <tr>\n",
       "      <th>3188</th>\n",
       "      <td>Pohorje, Dravinjske gorice in Haloze</td>\n",
       "      <td>Sveti Lenart (Koritno)</td>\n",
       "      <td>16</td>\n",
       "      <td>2</td>\n",
       "      <td>1</td>\n",
       "      <td>3</td>\n",
       "      <td>745</td>\n",
       "      <td>['cerkev']</td>\n",
       "    </tr>\n",
       "    <tr>\n",
       "      <th>3189</th>\n",
       "      <td>Pohorje, Dravinjske gorice in Haloze</td>\n",
       "      <td>Sveti Lenart (Koritno)</td>\n",
       "      <td>16</td>\n",
       "      <td>2</td>\n",
       "      <td>1</td>\n",
       "      <td>3</td>\n",
       "      <td>745</td>\n",
       "      <td>['cerkev']</td>\n",
       "    </tr>\n",
       "    <tr>\n",
       "      <th>3206</th>\n",
       "      <td>Pohorje, Dravinjske gorice in Haloze</td>\n",
       "      <td>Sveti Miklavž (Koritno)</td>\n",
       "      <td>16</td>\n",
       "      <td>1</td>\n",
       "      <td>1</td>\n",
       "      <td>2</td>\n",
       "      <td>678</td>\n",
       "      <td>['cerkev']</td>\n",
       "    </tr>\n",
       "    <tr>\n",
       "      <th>3207</th>\n",
       "      <td>Pohorje, Dravinjske gorice in Haloze</td>\n",
       "      <td>Sveti Miklavž (Koritno)</td>\n",
       "      <td>16</td>\n",
       "      <td>1</td>\n",
       "      <td>1</td>\n",
       "      <td>2</td>\n",
       "      <td>678</td>\n",
       "      <td>['cerkev']</td>\n",
       "    </tr>\n",
       "  </tbody>\n",
       "</table>\n",
       "<p>4528 rows × 8 columns</p>\n",
       "</div>"
      ],
      "text/plain": [
       "                                            gorovje   \n",
       "2592                                      Karavanke  \\\n",
       "802                                   Julijske Alpe   \n",
       "1842                        Kamniško Savinjske Alpe   \n",
       "1843                        Kamniško Savinjske Alpe   \n",
       "2593                                      Karavanke   \n",
       "...                                             ...   \n",
       "4518  Strojna, Košenjak, Kozjak in Slovenske gorice   \n",
       "3188           Pohorje, Dravinjske gorice in Haloze   \n",
       "3189           Pohorje, Dravinjske gorice in Haloze   \n",
       "3206           Pohorje, Dravinjske gorice in Haloze   \n",
       "3207           Pohorje, Dravinjske gorice in Haloze   \n",
       "\n",
       "                                   ime   ogledi  priljubljenost (%)   \n",
       "2592                     Dom na Kofcah  1083679                 100  \\\n",
       "802                                Krn   982160                 100   \n",
       "1842  Kamniška koča na Kamniškem sedlu  1034208                 100   \n",
       "1843  Kamniška koča na Kamniškem sedlu  1034208                 100   \n",
       "2593                     Dom na Kofcah  1083679                 100   \n",
       "...                                ...      ...                 ...   \n",
       "4518  Lovsko zavetišče LD Mala Nedelja       30                   3   \n",
       "3188            Sveti Lenart (Koritno)       16                   2   \n",
       "3189            Sveti Lenart (Koritno)       16                   2   \n",
       "3206           Sveti Miklavž (Koritno)       16                   1   \n",
       "3207           Sveti Miklavž (Koritno)       16                   1   \n",
       "\n",
       "      število poti  število slik  višina                            vrsta  \n",
       "2592            13            18    1488  ['koča', ' planina', ' cerkev']  \n",
       "802             12            21    2244                          ['vrh']  \n",
       "1842             4            13    1864     ['koča', ' bivak', ' sedlo']  \n",
       "1843             4            13    1864     ['koča', ' bivak', ' sedlo']  \n",
       "2593            13            18    1488  ['koča', ' planina', ' cerkev']  \n",
       "...            ...           ...     ...                              ...  \n",
       "4518             1             1     215                         ['koča']  \n",
       "3188             1             3     745                       ['cerkev']  \n",
       "3189             1             3     745                       ['cerkev']  \n",
       "3206             1             2     678                       ['cerkev']  \n",
       "3207             1             2     678                       ['cerkev']  \n",
       "\n",
       "[4528 rows x 8 columns]"
      ]
     },
     "execution_count": 24,
     "metadata": {},
     "output_type": "execute_result"
    }
   ],
   "source": [
    "tabela_gora.sort_values(\"priljubljenost (%)\", ascending=False)"
   ]
  },
  {
   "cell_type": "markdown",
   "metadata": {},
   "source": [
    "Ker smo opazili, da se kot \"vrsta\" gore pogosto pojavi nekaj, kar sploh ni vrh, temveč je le npr. cerkev ali jezero, si želimo pogledati, če so vrhovi sploh najpogovstejša vrsta objekta na spletni strani. Če niso, potem lahko pišemo adminu, naj spletno stran preimenuje v \"cerkve.net\", \"jezera.net\" ali karkoli je že primerno."
   ]
  },
  {
   "cell_type": "code",
   "execution_count": 28,
   "metadata": {},
   "outputs": [
    {
     "data": {
      "text/plain": [
       "<Axes: xlabel='vrsta'>"
      ]
     },
     "execution_count": 28,
     "metadata": {},
     "output_type": "execute_result"
    },
    {
     "data": {
      "image/png": "[encoded data removed]",
      "text/plain": [
       "<Figure size 640x480 with 1 Axes>"
      ]
     },
     "metadata": {},
     "output_type": "display_data"
    }
   ],
   "source": [
    "import matplotlib\n",
    "vrste = pd.read_csv(\"podatki v csv/vrste.csv\")\n",
    "objekti_po_vrstah = vrste.groupby(\"vrsta\")\n",
    "objekti_po_vrstah.size().plot.bar()"
   ]
  },
  {
   "cell_type": "code",
   "execution_count": null,
   "metadata": {},
   "outputs": [],
   "source": []
  }
 ],
 "metadata": {
  "kernelspec": {
   "display_name": "Python 3.11.3 64-bit",
   "language": "python",
   "name": "python3"
  },
  "language_info": {
   "codemirror_mode": {
    "name": "ipython",
    "version": 3
   },
   "file_extension": ".py",
   "mimetype": "text/x-python",
   "name": "python",
   "nbconvert_exporter": "python",
   "pygments_lexer": "ipython3",
   "version": "3.11.3"
  },
  "orig_nbformat": 4,
  "vscode": {
   "interpreter": {
    "hash": "aee8b7b246df8f9039afb4144a1f6fd8d2ca17a180786b69acc140d282b71a49"
   }
  }
 },
 "nbformat": 4,
 "nbformat_minor": 2
}
